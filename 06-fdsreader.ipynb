{
 "cells": [
  {
   "cell_type": "markdown",
   "id": "28cce6db-0afc-46de-be68-55d05ccd2f5b",
   "metadata": {},
   "source": [
    "![logo](Data/logo.png)"
   ]
  },
  {
   "cell_type": "markdown",
   "id": "9b518ab2-1887-4b0a-8f94-33216609dc7c",
   "metadata": {},
   "source": [
    "This notebook is an example of how to use the [fdsreader](https://github.com/FireDynamics/fdsreader) livrairy to extract data from FDS simulation. "
   ]
  },
  {
   "cell_type": "code",
   "execution_count": 17,
   "id": "69314fc0-09d7-46f7-b4ae-f28e6ccde242",
   "metadata": {},
   "outputs": [],
   "source": [
    "import fdsreader\n",
    "import numpy as np \n",
    "import matplotlib.pyplot as plt"
   ]
  },
  {
   "cell_type": "markdown",
   "id": "c8a81df0-165c-4f1c-8eca-90387fc537fc",
   "metadata": {},
   "source": [
    "# 1. load simulation "
   ]
  },
  {
   "cell_type": "code",
   "execution_count": 18,
   "id": "8c1cd6fe-fb20-4495-b703-c9d756683176",
   "metadata": {},
   "outputs": [],
   "source": [
    "sim = fdsreader.Simulation('Data/Steckler/')\n"
   ]
  },
  {
   "cell_type": "markdown",
   "id": "4b942f07-5109-4c77-925e-eb1893ad11b2",
   "metadata": {},
   "source": [
    "## 2. load devices to panda data frame"
   ]
  },
  {
   "cell_type": "code",
   "execution_count": 3,
   "id": "5153f4e3-16d7-4508-bd9f-01a59b6512b6",
   "metadata": {},
   "outputs": [],
   "source": [
    "df_dev = sim.devices.to_pandas_dataframe()\n",
    "tc_roomV = df_dev.filter(regex='Time|RoomV-') # select time and thermocouples \"room\" time varying line\n",
    "tc_roomS = df_dev.filter(regex='Time|RoomS_') # steady state from 50 to 100s"
   ]
  },
  {
   "cell_type": "code",
   "execution_count": 4,
   "id": "a5f5c960-5752-4d5e-964d-7d4c888756b8",
   "metadata": {},
   "outputs": [
    {
     "data": {
      "text/html": [
       "<div>\n",
       "<style scoped>\n",
       "    .dataframe tbody tr th:only-of-type {\n",
       "        vertical-align: middle;\n",
       "    }\n",
       "\n",
       "    .dataframe tbody tr th {\n",
       "        vertical-align: top;\n",
       "    }\n",
       "\n",
       "    .dataframe thead th {\n",
       "        text-align: right;\n",
       "    }\n",
       "</style>\n",
       "<table border=\"1\" class=\"dataframe\">\n",
       "  <thead>\n",
       "    <tr style=\"text-align: right;\">\n",
       "      <th></th>\n",
       "      <th>Time</th>\n",
       "      <th>TC_RoomV-1</th>\n",
       "      <th>TC_RoomV-2</th>\n",
       "      <th>TC_RoomV-3</th>\n",
       "      <th>TC_RoomV-4</th>\n",
       "      <th>TC_RoomV-5</th>\n",
       "      <th>TC_RoomV-6</th>\n",
       "      <th>TC_RoomV-7</th>\n",
       "      <th>TC_RoomV-8</th>\n",
       "      <th>TC_RoomV-9</th>\n",
       "      <th>...</th>\n",
       "      <th>TC_RoomV-35</th>\n",
       "      <th>TC_RoomV-36</th>\n",
       "      <th>TC_RoomV-37</th>\n",
       "      <th>TC_RoomV-38</th>\n",
       "      <th>TC_RoomV-39</th>\n",
       "      <th>TC_RoomV-40</th>\n",
       "      <th>TC_RoomV-41</th>\n",
       "      <th>TC_RoomV-42</th>\n",
       "      <th>TC_RoomV-43</th>\n",
       "      <th>TC_RoomV-44</th>\n",
       "    </tr>\n",
       "  </thead>\n",
       "  <tbody>\n",
       "    <tr>\n",
       "      <th>0</th>\n",
       "      <td>0.000000</td>\n",
       "      <td>22.000000</td>\n",
       "      <td>22.000000</td>\n",
       "      <td>22.000000</td>\n",
       "      <td>22.000000</td>\n",
       "      <td>22.000000</td>\n",
       "      <td>22.000000</td>\n",
       "      <td>22.000000</td>\n",
       "      <td>22.000000</td>\n",
       "      <td>22.000000</td>\n",
       "      <td>...</td>\n",
       "      <td>22.000000</td>\n",
       "      <td>22.000000</td>\n",
       "      <td>22.000000</td>\n",
       "      <td>22.000000</td>\n",
       "      <td>22.000000</td>\n",
       "      <td>22.000000</td>\n",
       "      <td>22.000000</td>\n",
       "      <td>22.000000</td>\n",
       "      <td>22.000000</td>\n",
       "      <td>22.000000</td>\n",
       "    </tr>\n",
       "    <tr>\n",
       "      <th>1</th>\n",
       "      <td>10.080000</td>\n",
       "      <td>22.010000</td>\n",
       "      <td>22.010000</td>\n",
       "      <td>22.010000</td>\n",
       "      <td>22.010000</td>\n",
       "      <td>22.010000</td>\n",
       "      <td>22.010000</td>\n",
       "      <td>22.010000</td>\n",
       "      <td>22.010000</td>\n",
       "      <td>22.010000</td>\n",
       "      <td>...</td>\n",
       "      <td>22.000000</td>\n",
       "      <td>22.000000</td>\n",
       "      <td>22.000000</td>\n",
       "      <td>22.000000</td>\n",
       "      <td>22.000000</td>\n",
       "      <td>22.000000</td>\n",
       "      <td>22.000000</td>\n",
       "      <td>22.000000</td>\n",
       "      <td>22.000000</td>\n",
       "      <td>22.000000</td>\n",
       "    </tr>\n",
       "    <tr>\n",
       "      <th>2</th>\n",
       "      <td>20.070000</td>\n",
       "      <td>22.139999</td>\n",
       "      <td>22.139999</td>\n",
       "      <td>22.080000</td>\n",
       "      <td>22.080000</td>\n",
       "      <td>22.090000</td>\n",
       "      <td>22.090000</td>\n",
       "      <td>22.090000</td>\n",
       "      <td>22.090000</td>\n",
       "      <td>22.080000</td>\n",
       "      <td>...</td>\n",
       "      <td>22.020000</td>\n",
       "      <td>22.020000</td>\n",
       "      <td>22.020000</td>\n",
       "      <td>22.020000</td>\n",
       "      <td>22.020000</td>\n",
       "      <td>22.020000</td>\n",
       "      <td>22.020000</td>\n",
       "      <td>22.020000</td>\n",
       "      <td>22.030001</td>\n",
       "      <td>22.030001</td>\n",
       "    </tr>\n",
       "    <tr>\n",
       "      <th>3</th>\n",
       "      <td>30.059999</td>\n",
       "      <td>22.330000</td>\n",
       "      <td>22.330000</td>\n",
       "      <td>22.160000</td>\n",
       "      <td>22.160000</td>\n",
       "      <td>22.180000</td>\n",
       "      <td>22.180000</td>\n",
       "      <td>22.190001</td>\n",
       "      <td>22.190001</td>\n",
       "      <td>22.200001</td>\n",
       "      <td>...</td>\n",
       "      <td>22.350000</td>\n",
       "      <td>22.350000</td>\n",
       "      <td>23.770000</td>\n",
       "      <td>23.770000</td>\n",
       "      <td>26.410000</td>\n",
       "      <td>26.410000</td>\n",
       "      <td>28.900000</td>\n",
       "      <td>28.900000</td>\n",
       "      <td>32.630001</td>\n",
       "      <td>32.630001</td>\n",
       "    </tr>\n",
       "    <tr>\n",
       "      <th>4</th>\n",
       "      <td>40.070000</td>\n",
       "      <td>22.549999</td>\n",
       "      <td>22.549999</td>\n",
       "      <td>22.260000</td>\n",
       "      <td>22.260000</td>\n",
       "      <td>22.309999</td>\n",
       "      <td>22.309999</td>\n",
       "      <td>22.340000</td>\n",
       "      <td>22.340000</td>\n",
       "      <td>22.379999</td>\n",
       "      <td>...</td>\n",
       "      <td>32.320000</td>\n",
       "      <td>32.320000</td>\n",
       "      <td>31.180000</td>\n",
       "      <td>31.180000</td>\n",
       "      <td>32.570000</td>\n",
       "      <td>32.570000</td>\n",
       "      <td>37.290001</td>\n",
       "      <td>37.290001</td>\n",
       "      <td>44.009998</td>\n",
       "      <td>44.009998</td>\n",
       "    </tr>\n",
       "    <tr>\n",
       "      <th>5</th>\n",
       "      <td>50.049999</td>\n",
       "      <td>22.760000</td>\n",
       "      <td>22.760000</td>\n",
       "      <td>22.370001</td>\n",
       "      <td>22.370001</td>\n",
       "      <td>22.469999</td>\n",
       "      <td>22.469999</td>\n",
       "      <td>22.549999</td>\n",
       "      <td>22.549999</td>\n",
       "      <td>22.660000</td>\n",
       "      <td>...</td>\n",
       "      <td>34.990002</td>\n",
       "      <td>34.990002</td>\n",
       "      <td>43.360001</td>\n",
       "      <td>43.360001</td>\n",
       "      <td>46.310001</td>\n",
       "      <td>46.310001</td>\n",
       "      <td>44.700001</td>\n",
       "      <td>44.700001</td>\n",
       "      <td>51.889999</td>\n",
       "      <td>51.889999</td>\n",
       "    </tr>\n",
       "    <tr>\n",
       "      <th>6</th>\n",
       "      <td>60.029999</td>\n",
       "      <td>22.969999</td>\n",
       "      <td>22.969999</td>\n",
       "      <td>22.510000</td>\n",
       "      <td>22.510000</td>\n",
       "      <td>22.660000</td>\n",
       "      <td>22.660000</td>\n",
       "      <td>22.850000</td>\n",
       "      <td>22.850000</td>\n",
       "      <td>23.150000</td>\n",
       "      <td>...</td>\n",
       "      <td>39.509998</td>\n",
       "      <td>39.509998</td>\n",
       "      <td>37.250000</td>\n",
       "      <td>37.250000</td>\n",
       "      <td>41.450001</td>\n",
       "      <td>41.450001</td>\n",
       "      <td>47.959999</td>\n",
       "      <td>47.959999</td>\n",
       "      <td>56.529999</td>\n",
       "      <td>56.529999</td>\n",
       "    </tr>\n",
       "    <tr>\n",
       "      <th>7</th>\n",
       "      <td>70.010002</td>\n",
       "      <td>23.170000</td>\n",
       "      <td>23.170000</td>\n",
       "      <td>22.639999</td>\n",
       "      <td>22.639999</td>\n",
       "      <td>22.940001</td>\n",
       "      <td>22.940001</td>\n",
       "      <td>23.750000</td>\n",
       "      <td>23.750000</td>\n",
       "      <td>25.260000</td>\n",
       "      <td>...</td>\n",
       "      <td>42.520000</td>\n",
       "      <td>42.520000</td>\n",
       "      <td>43.240002</td>\n",
       "      <td>43.240002</td>\n",
       "      <td>46.400002</td>\n",
       "      <td>46.400002</td>\n",
       "      <td>53.599998</td>\n",
       "      <td>53.599998</td>\n",
       "      <td>58.759998</td>\n",
       "      <td>58.759998</td>\n",
       "    </tr>\n",
       "    <tr>\n",
       "      <th>8</th>\n",
       "      <td>80.120003</td>\n",
       "      <td>23.370001</td>\n",
       "      <td>23.370001</td>\n",
       "      <td>22.770000</td>\n",
       "      <td>22.770000</td>\n",
       "      <td>23.450001</td>\n",
       "      <td>23.450001</td>\n",
       "      <td>25.139999</td>\n",
       "      <td>25.139999</td>\n",
       "      <td>25.700001</td>\n",
       "      <td>...</td>\n",
       "      <td>48.009998</td>\n",
       "      <td>48.009998</td>\n",
       "      <td>54.110001</td>\n",
       "      <td>54.110001</td>\n",
       "      <td>58.099998</td>\n",
       "      <td>58.099998</td>\n",
       "      <td>59.000000</td>\n",
       "      <td>59.000000</td>\n",
       "      <td>62.169998</td>\n",
       "      <td>62.169998</td>\n",
       "    </tr>\n",
       "    <tr>\n",
       "      <th>9</th>\n",
       "      <td>90.139999</td>\n",
       "      <td>23.639999</td>\n",
       "      <td>23.639999</td>\n",
       "      <td>22.900000</td>\n",
       "      <td>22.900000</td>\n",
       "      <td>23.500000</td>\n",
       "      <td>23.500000</td>\n",
       "      <td>24.879999</td>\n",
       "      <td>24.879999</td>\n",
       "      <td>24.700001</td>\n",
       "      <td>...</td>\n",
       "      <td>59.849998</td>\n",
       "      <td>59.849998</td>\n",
       "      <td>59.200001</td>\n",
       "      <td>59.200001</td>\n",
       "      <td>61.080002</td>\n",
       "      <td>61.080002</td>\n",
       "      <td>66.110001</td>\n",
       "      <td>66.110001</td>\n",
       "      <td>69.949997</td>\n",
       "      <td>69.949997</td>\n",
       "    </tr>\n",
       "    <tr>\n",
       "      <th>10</th>\n",
       "      <td>100.000000</td>\n",
       "      <td>23.969999</td>\n",
       "      <td>23.969999</td>\n",
       "      <td>23.100000</td>\n",
       "      <td>23.100000</td>\n",
       "      <td>23.230000</td>\n",
       "      <td>23.230000</td>\n",
       "      <td>24.190001</td>\n",
       "      <td>24.190001</td>\n",
       "      <td>24.090000</td>\n",
       "      <td>...</td>\n",
       "      <td>58.020000</td>\n",
       "      <td>58.020000</td>\n",
       "      <td>61.570000</td>\n",
       "      <td>61.570000</td>\n",
       "      <td>65.589996</td>\n",
       "      <td>65.589996</td>\n",
       "      <td>69.570000</td>\n",
       "      <td>69.570000</td>\n",
       "      <td>75.510002</td>\n",
       "      <td>75.510002</td>\n",
       "    </tr>\n",
       "  </tbody>\n",
       "</table>\n",
       "<p>11 rows × 45 columns</p>\n",
       "</div>"
      ],
      "text/plain": [
       "          Time  TC_RoomV-1  TC_RoomV-2  TC_RoomV-3  TC_RoomV-4  TC_RoomV-5  \\\n",
       "0     0.000000   22.000000   22.000000   22.000000   22.000000   22.000000   \n",
       "1    10.080000   22.010000   22.010000   22.010000   22.010000   22.010000   \n",
       "2    20.070000   22.139999   22.139999   22.080000   22.080000   22.090000   \n",
       "3    30.059999   22.330000   22.330000   22.160000   22.160000   22.180000   \n",
       "4    40.070000   22.549999   22.549999   22.260000   22.260000   22.309999   \n",
       "5    50.049999   22.760000   22.760000   22.370001   22.370001   22.469999   \n",
       "6    60.029999   22.969999   22.969999   22.510000   22.510000   22.660000   \n",
       "7    70.010002   23.170000   23.170000   22.639999   22.639999   22.940001   \n",
       "8    80.120003   23.370001   23.370001   22.770000   22.770000   23.450001   \n",
       "9    90.139999   23.639999   23.639999   22.900000   22.900000   23.500000   \n",
       "10  100.000000   23.969999   23.969999   23.100000   23.100000   23.230000   \n",
       "\n",
       "    TC_RoomV-6  TC_RoomV-7  TC_RoomV-8  TC_RoomV-9  ...  TC_RoomV-35  \\\n",
       "0    22.000000   22.000000   22.000000   22.000000  ...    22.000000   \n",
       "1    22.010000   22.010000   22.010000   22.010000  ...    22.000000   \n",
       "2    22.090000   22.090000   22.090000   22.080000  ...    22.020000   \n",
       "3    22.180000   22.190001   22.190001   22.200001  ...    22.350000   \n",
       "4    22.309999   22.340000   22.340000   22.379999  ...    32.320000   \n",
       "5    22.469999   22.549999   22.549999   22.660000  ...    34.990002   \n",
       "6    22.660000   22.850000   22.850000   23.150000  ...    39.509998   \n",
       "7    22.940001   23.750000   23.750000   25.260000  ...    42.520000   \n",
       "8    23.450001   25.139999   25.139999   25.700001  ...    48.009998   \n",
       "9    23.500000   24.879999   24.879999   24.700001  ...    59.849998   \n",
       "10   23.230000   24.190001   24.190001   24.090000  ...    58.020000   \n",
       "\n",
       "    TC_RoomV-36  TC_RoomV-37  TC_RoomV-38  TC_RoomV-39  TC_RoomV-40  \\\n",
       "0     22.000000    22.000000    22.000000    22.000000    22.000000   \n",
       "1     22.000000    22.000000    22.000000    22.000000    22.000000   \n",
       "2     22.020000    22.020000    22.020000    22.020000    22.020000   \n",
       "3     22.350000    23.770000    23.770000    26.410000    26.410000   \n",
       "4     32.320000    31.180000    31.180000    32.570000    32.570000   \n",
       "5     34.990002    43.360001    43.360001    46.310001    46.310001   \n",
       "6     39.509998    37.250000    37.250000    41.450001    41.450001   \n",
       "7     42.520000    43.240002    43.240002    46.400002    46.400002   \n",
       "8     48.009998    54.110001    54.110001    58.099998    58.099998   \n",
       "9     59.849998    59.200001    59.200001    61.080002    61.080002   \n",
       "10    58.020000    61.570000    61.570000    65.589996    65.589996   \n",
       "\n",
       "    TC_RoomV-41  TC_RoomV-42  TC_RoomV-43  TC_RoomV-44  \n",
       "0     22.000000    22.000000    22.000000    22.000000  \n",
       "1     22.000000    22.000000    22.000000    22.000000  \n",
       "2     22.020000    22.020000    22.030001    22.030001  \n",
       "3     28.900000    28.900000    32.630001    32.630001  \n",
       "4     37.290001    37.290001    44.009998    44.009998  \n",
       "5     44.700001    44.700001    51.889999    51.889999  \n",
       "6     47.959999    47.959999    56.529999    56.529999  \n",
       "7     53.599998    53.599998    58.759998    58.759998  \n",
       "8     59.000000    59.000000    62.169998    62.169998  \n",
       "9     66.110001    66.110001    69.949997    69.949997  \n",
       "10    69.570000    69.570000    75.510002    75.510002  \n",
       "\n",
       "[11 rows x 45 columns]"
      ]
     },
     "execution_count": 4,
     "metadata": {},
     "output_type": "execute_result"
    }
   ],
   "source": [
    "tc_roomV"
   ]
  },
  {
   "cell_type": "code",
   "execution_count": 5,
   "id": "3a46a56b-f7c0-492e-a088-287161b7e643",
   "metadata": {},
   "outputs": [
    {
     "data": {
      "text/plain": [
       "<matplotlib.legend.Legend at 0x7f1c8b23ff10>"
      ]
     },
     "execution_count": 5,
     "metadata": {},
     "output_type": "execute_result"
    },
    {
     "data": {
      "image/png": "[encoded data removed]",
      "text/plain": [
       "<Figure size 640x480 with 1 Axes>"
      ]
     },
     "metadata": {},
     "output_type": "display_data"
    }
   ],
   "source": [
    "#plot time varying and mean of time varying over [50-100]s\n",
    "tab_colors = ['tab:blue', 'tab:orange', 'tab:green', 'tab:red', 'tab:purple',\n",
    "              'tab:brown', 'tab:pink', 'tab:gray', 'tab:olive', 'tab:cyan']\n",
    "\n",
    "for i,tcname in enumerate(tc_roomV.columns[8:10]):\n",
    "    if tcname == 'Time': continue\n",
    "    plt.plot(tc_roomV['Time'], tc_roomV[tcname],label=tcname, c=tab_colors[i])\n",
    "    plt.plot(tc_roomV['Time'], [tc_roomV[tcname][5:].mean()]*len(tc_roomV),label=tcname+'mean', ls='--',c=tab_colors[i]) \n",
    "\n",
    "#plot steady state over [50-100]s\n",
    "for tcname in tc_roomS.columns[8:10]:\n",
    "    if tcname == 'Time': continue\n",
    "    plt.plot(tc_roomS['Time'], tc_roomS[tcname],label=tcname,ls=':')\n",
    "    \n",
    "plt.legend()\n"
   ]
  },
  {
   "cell_type": "markdown",
   "id": "b2f69243-3a6e-4e86-ba3c-fb4f23bc4dc5",
   "metadata": {},
   "source": [
    "The running average from the steady state of the second device is not equal to the mean of the time varying device.\n",
    "The average in both case is not made on the same frequence."
   ]
  },
  {
   "cell_type": "markdown",
   "id": "f77562f4-1052-4d2a-a769-491934db2334",
   "metadata": {},
   "source": [
    "## 3. load slice data"
   ]
  },
  {
   "cell_type": "markdown",
   "id": "d72ade81-db0f-4c1c-bedc-9a5ead4a9826",
   "metadata": {},
   "source": [
    "To show the quantities stored in the slice \n",
    "fds version 6.7.7 is used here. Output from 6.9.1 failed to be loaded."
   ]
  },
  {
   "cell_type": "code",
   "execution_count": 19,
   "id": "f61195cf-321b-41c4-9b7a-133a9f4b15b0",
   "metadata": {},
   "outputs": [
    {
     "data": {
      "text/plain": [
       "SliceCollection([Slice([2D] quantity=Quantity('TEMPERATURE'), cell_centered=True, extent=Extent([0.00, 3.60] x [0.10, 0.10] x [0.00, 2.13]), extent_dirs=('x', 'z'), orientation=2),\n",
       "Slice([2D] quantity=Quantity('VELOCITY'), cell_centered=True, extent=Extent([0.00, 3.60] x [0.10, 0.10] x [0.00, 2.13]), extent_dirs=('x', 'z'), orientation=2)])"
      ]
     },
     "execution_count": 19,
     "metadata": {},
     "output_type": "execute_result"
    }
   ],
   "source": [
    "sim.slices # to show available slice"
   ]
  },
  {
   "cell_type": "code",
   "execution_count": 20,
   "id": "3385ee7d-81aa-4b64-ac11-d6d8b1f7de80",
   "metadata": {},
   "outputs": [],
   "source": [
    "tempSlc = sim.slices[0] # to select temperature"
   ]
  },
  {
   "cell_type": "code",
   "execution_count": 21,
   "id": "ad83030e-76c1-48ba-85a3-744ffe176895",
   "metadata": {},
   "outputs": [],
   "source": [
    "temp, grid = tempSlc.to_global(masked=True, fill=np.nan, return_coordinates=True) \n",
    "times = tempSlc.times"
   ]
  },
  {
   "cell_type": "code",
   "execution_count": 22,
   "id": "d266a500-ba1e-4db7-a6a9-2c90822de85a",
   "metadata": {},
   "outputs": [
    {
     "name": "stdout",
     "output_type": "stream",
     "text": [
      "temp shape :  (11, 36, 22)\n",
      "time shape :  (11,)\n"
     ]
    }
   ],
   "source": [
    "print( 'temp shape : ',temp.shape)\n",
    "print( 'time shape : ',times.shape)"
   ]
  },
  {
   "cell_type": "code",
   "execution_count": 37,
   "id": "5c9bff9e-f2b3-4dad-a540-c43160c2a6ed",
   "metadata": {},
   "outputs": [
    {
     "data": {
      "text/plain": [
       "Text(0.5, 1.0, 't=100.00s')"
      ]
     },
     "execution_count": 37,
     "metadata": {},
     "output_type": "execute_result"
    },
    {
     "data": {
      "image/png": "[encoded data removed]",
      "text/plain": [
       "<Figure size 640x480 with 2 Axes>"
      ]
     },
     "metadata": {},
     "output_type": "display_data"
    }
   ],
   "source": [
    "itime = 5\n",
    "ax = plt.subplot(211)\n",
    "ax.pcolormesh(grid['x'], grid['z'],temp[itime].T,vmax=200)\n",
    "ax.set_title('t={:.2f}s'.format(times[itime]))\n",
    "\n",
    "itime = 10\n",
    "ax = plt.subplot(212)\n",
    "ax.pcolormesh(grid['x'], grid['z'],temp[itime].T,vmax=200)\n",
    "ax.set_title('t={:.2f}s'.format(times[itime]))"
   ]
  }
 ],
 "metadata": {
  "kernelspec": {
   "display_name": "Python 3 (ipykernel)",
   "language": "python",
   "name": "python3"
  },
  "language_info": {
   "codemirror_mode": {
    "name": "ipython",
    "version": 3
   },
   "file_extension": ".py",
   "mimetype": "text/x-python",
   "name": "python",
   "nbconvert_exporter": "python",
   "pygments_lexer": "ipython3",
   "version": "3.11.2"
  }
 },
 "nbformat": 4,
 "nbformat_minor": 5
}
