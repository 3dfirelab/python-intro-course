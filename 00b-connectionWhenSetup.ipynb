{
 "cells": [
  {
   "cell_type": "markdown",
   "id": "12d68e4e-eb24-45e3-b30f-58202e58843e",
   "metadata": {},
   "source": [
    "![logo](Data/logo.png)"
   ]
  },
  {
   "cell_type": "markdown",
   "id": "415015e9-e302-4290-a6cd-9ad3e842026d",
   "metadata": {},
   "source": [
    "# Connection to Andromeda when all setup"
   ]
  },
  {
   "cell_type": "markdown",
   "id": "e2e944a1-b94b-49a8-b610-c3778b75319f",
   "metadata": {},
   "source": [
    "1. **connection to andromeda**"
   ]
  },
  {
   "cell_type": "markdown",
   "id": "117e7099-ce69-4be0-b9fc-528f32d6d6e3",
   "metadata": {},
   "source": [
    "```\n",
    "$ ssh -L XXXX:localhost:XXXX USERNAME@andromeda.cdb.upc.edu\n",
    "```"
   ]
  },
  {
   "cell_type": "markdown",
   "id": "c45fffd3-8adb-437a-8cec-f45e12780d2d",
   "metadata": {},
   "source": [
    "2. **move to /data/USERNAME**"
   ]
  },
  {
   "cell_type": "markdown",
   "id": "68a2c37e-94f4-45ba-ac17-b3725ec030fa",
   "metadata": {},
   "source": [
    "```\n",
    "$ cd /data/USERNAME\n",
    "```"
   ]
  },
  {
   "cell_type": "markdown",
   "id": "0458e867-48d5-4dd8-8a83-fee83a12a06c",
   "metadata": {},
   "source": [
    "3. **allocation of ressources**"
   ]
  },
  {
   "cell_type": "markdown",
   "id": "e5612e70-9b1d-44cb-b924-cf7a75a097a8",
   "metadata": {},
   "source": [
    "```\n",
    "$salloc -N 1 --tasks=8 --mem 24G -p prod\n",
    "```"
   ]
  },
  {
   "cell_type": "markdown",
   "id": "79168b50-fb63-4404-b9cd-16247d8f80a0",
   "metadata": {},
   "source": [
    "4. **load python environment and start jupyterlab**"
   ]
  },
  {
   "cell_type": "markdown",
   "id": "3c59fcb6-094a-43bd-a955-2851e801db7f",
   "metadata": {},
   "source": [
    "```\n",
    "$ source /opt/imfse/bin/activate\n",
    "$ jupyter lab  -no-browser --port=XXXX\n",
    "```"
   ]
  },
  {
   "cell_type": "code",
   "execution_count": null,
   "id": "32282453-86ff-4eba-b94c-8d110e8830f5",
   "metadata": {},
   "outputs": [],
   "source": []
  }
 ],
 "metadata": {
  "kernelspec": {
   "display_name": "Python 3 (ipykernel)",
   "language": "python",
   "name": "python3"
  },
  "language_info": {
   "codemirror_mode": {
    "name": "ipython",
    "version": 3
   },
   "file_extension": ".py",
   "mimetype": "text/x-python",
   "name": "python",
   "nbconvert_exporter": "python",
   "pygments_lexer": "ipython3",
   "version": "3.11.2"
  }
 },
 "nbformat": 4,
 "nbformat_minor": 5
}
