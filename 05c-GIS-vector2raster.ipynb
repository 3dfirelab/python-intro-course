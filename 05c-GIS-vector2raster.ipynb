{
 "cells": [
  {
   "cell_type": "code",
   "execution_count": null,
   "id": "302485a0-8fd2-436b-b119-75eb3dda8f2a",
   "metadata": {},
   "outputs": [],
   "source": []
  },
  {
   "cell_type": "code",
   "execution_count": null,
   "id": "5e99aed2-d927-4aca-81f1-04f9d87e2749",
   "metadata": {},
   "outputs": [],
   "source": [
    "from rasterio.transform import from_origin\n",
    "from rasterio.features import geometry_mask\n",
    "#set spatial idx\n",
    "latitude = frpgfas.variables['latitude'][:]\n",
    "longitude = frpgfas.variables['longitude'][:]\n",
    "\n",
    "min_lon = longitude.min()\n",
    "max_lat = latitude.max()\n",
    "reslon  = longitude[1]-longitude[0]\n",
    "reslat = latitude[0]-latitude[1]\n",
    "height, width = latitude.shape[0], longitude.shape[0]\n",
    "# Define the transform\n",
    "transform = from_origin(min_lon, max_lat, reslon, reslat)\n",
    "\n",
    "# Convert geometries to the rasterio format\n",
    "shapes = [geom for geom in cat.geometry]\n",
    "\n",
    "# Create a mask\n",
    "mask = geometry_mask(shapes, transform=transform, invert=True, out_shape=(height, width))\n"
   ]
  }
 ],
 "metadata": {
  "kernelspec": {
   "display_name": "Python 3 (ipykernel)",
   "language": "python",
   "name": "python3"
  },
  "language_info": {
   "codemirror_mode": {
    "name": "ipython",
    "version": 3
   },
   "file_extension": ".py",
   "mimetype": "text/x-python",
   "name": "python",
   "nbconvert_exporter": "python",
   "pygments_lexer": "ipython3",
   "version": "3.11.2"
  }
 },
 "nbformat": 4,
 "nbformat_minor": 5
}
