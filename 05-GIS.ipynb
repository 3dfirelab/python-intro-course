{
 "cells": [
  {
   "cell_type": "markdown",
   "id": "f892bace-dcb6-4060-93c7-768990c07b73",
   "metadata": {},
   "source": [
    "# Python and GIS"
   ]
  },
  {
   "cell_type": "markdown",
   "id": "b930314a-b831-4a6d-bf75-30d610546d3a",
   "metadata": {},
   "source": [
    "A Geographic Information System (GIS) is a computer system that analyzes and displays geographically referenced information. It uses data that is attached to a unique location."
   ]
  },
  {
   "cell_type": "markdown",
   "id": "5c94f4d5-3762-433b-a580-19fb48f6e988",
   "metadata": {},
   "source": [
    "In this notebook we show how to open a true color image from sentinel 2, crop it, and project it to the standard projection system for europe, `epsg:3035`.\n",
    "\n",
    "EPGS is a public registry of Coordinate reference systems, CRS.\n",
    "CRS provide a standardized way of describing locations.Many different CRS are used to describe geographic data.\n",
    "The CRS that is chosen depends on when the data was collected, the geographic extent of the data, the purpose of the data, etc.\n"
   ]
  },
  {
   "cell_type": "markdown",
   "id": "3194a7fe-a085-49db-a44d-976e625da492",
   "metadata": {},
   "source": [
    "True color image of sentinel 2 can be manually uploaded from the [apps.sentinel-hub]((https://apps.sentinel-hub.com/eo-browser/)) sever.\n",
    "One image of the 16 of july 2023 in available in this repository, see `filein` variable below.\n",
    "\n",
    "When saving true color image save them in 8-bit tiff format as indicated in the image below\n",
    "![saving tiff in the sentinel server](Data/sentinelUpload.png)\n"
   ]
  },
  {
   "cell_type": "markdown",
   "id": "643c3694-76d2-4cf4-afad-b31a06c71076",
   "metadata": {},
   "source": [
    "key libraries in GIS are:\n",
    " * shapely: tools for the manipulation of planar features \n",
    " * rasterio: to hanfle raster image\n",
    " * geopandas: add to the functionality of pandas most of gis file format. It also uses functionallity of matplotlib.\n",
    " * pyproj: to transform coordinate between CRS.\n"
   ]
  },
  {
   "cell_type": "markdown",
   "id": "7f2ca755-d1c6-4570-8b13-07819bce9071",
   "metadata": {},
   "source": [
    "### import library"
   ]
  },
  {
   "cell_type": "code",
   "execution_count": null,
   "id": "f533cfa8-b88d-4852-84f5-48b460050976",
   "metadata": {},
   "outputs": [],
   "source": [
    "#system\n",
    "import sys\n",
    "import os \n",
    "import glob\n",
    "\n",
    "#variables type\n",
    "import numpy as np \n",
    "import pandas as pd\n",
    "\n",
    "#for plotting\n",
    "import matplotlib as mpl \n",
    "from matplotlib import pyplot as plt\n",
    "import matplotlib.colors as colors\n",
    "from mpl_toolkits.axes_grid1.anchored_artists import AnchoredSizeBar\n",
    "import matplotlib.font_manager as fm\n",
    "\n",
    "#for gis\n",
    "import geopandas as gpd\n",
    "import shapely \n",
    "from shapely.geometry import Polygon\n",
    "import pyproj\n",
    "import rasterio \n",
    "from rasterio.mask import mask\n",
    "\n",
    "#for image processing\n",
    "import cv2\n",
    "\n",
    "#misc\n",
    "import warnings\n",
    "import pdb \n",
    "\n",
    "#homebrewed\n",
    "# here we load a module that was is not part of the library available in conda.\n",
    "# I wrote this module. \n",
    "# the sys.path.append command is used to tell python to add Src-tools to the place where it can find library to import.\n",
    "sys.path.append('./Src-tools/')\n",
    "import tools\n",
    "\n"
   ]
  },
  {
   "cell_type": "markdown",
   "id": "2abfbed4-adf9-44cd-a5be-92abac2b51c0",
   "metadata": {},
   "source": [
    "## Variables initialisation"
   ]
  },
  {
   "cell_type": "code",
   "execution_count": null,
   "id": "46f84d30-55ff-4e6a-8924-280a9485947c",
   "metadata": {},
   "outputs": [],
   "source": [
    "\n",
    "dir_data = './Data/'\n",
    "crs_here = 'epsg:3035'\n",
    "\n",
    "#projection tools betweeen WGS84 and crs_here \n",
    "to_latlon=pyproj.Transformer.from_crs(crs_here, 'epsg:4326')\n",
    "to_utm=pyproj.Transformer.from_crs('epsg:4326', crs_here)\n",
    "\n",
    "#barcelona\n",
    "filein = '{:s}/2023-07-16-00 00_2023-07-16-23 59_Sentinel-2_L2A_True_color.tiff'.format(dir_data)\n",
    "lon, lat = 2.214, 41.47 # cente\n",
    "\n",
    "#window around barcelona\n",
    "ll = 20.e3\n",
    "ycenter, xcenter = to_utm.transform(lat,lon)\n",
    "xminHere,xmaxHere = xcenter-ll, xcenter+ll\n",
    "yminHere,ymaxHere = ycenter-ll, ycenter+ll\n"
   ]
  },
  {
   "cell_type": "markdown",
   "id": "bba79b38-cf5f-465a-8ed4-7583e1db8945",
   "metadata": {},
   "source": [
    "## load true color image and project on crs"
   ]
  },
  {
   "cell_type": "code",
   "execution_count": null,
   "id": "24740d64-5cef-46c6-99cf-ffdbd6514aa0",
   "metadata": {},
   "outputs": [],
   "source": [
    "with rasterio.open(filein) as src: # the with command release the src from the memory while the line indented below are completed\n",
    "    src = rasterio.open(filein)      \n",
    "    #clip\n",
    "    bb = 1\n",
    "    bbox = shapely.geometry.box(xminHere-bb, yminHere-bb, xmaxHere+bb, ymaxHere+bb)\n",
    "    geo = gpd.GeoDataFrame({'geometry': bbox}, index=[0], crs=crs_here)\n",
    "    geo = geo.to_crs(crs='epsg:4326')\n",
    "    coords = tools.getFeatures(geo)\n",
    "    data_, src_transform = mask(src, shapes=coords, crop=True)\n",
    "           \n",
    "    data_out = []\n",
    "    for xx in range(3):\n",
    "        band_, transform_dst = tools.reproject_raster(data_[xx][np.newaxis, ...], geo.total_bounds , src_transform, geo.crs, crs_here, resolution=60)\n",
    "                \n",
    "        if xx == 0: \n",
    "            transformer = rasterio.transform.AffineTransformer(transform_dst)\n",
    "            nx,ny = band_.shape\n",
    "            dst_bounds = (*transformer.xy(0, 0), *transformer.xy(nx, ny))\n",
    "\n",
    "        data_out.append(band_)\n",
    "\n",
    "data_out = np.array(data_out, dtype=np.uint8)\n",
    "data_out = np.transpose(data_out,[1,2,0])\n"
   ]
  },
  {
   "cell_type": "markdown",
   "id": "8c333169-fc39-48d1-8d00-888d1e42d935",
   "metadata": {},
   "source": [
    "## project image equalization.\n",
    "a conrast adjustment is performed on `data_out` using the [CLAHE](https://en.wikipedia.org/wiki/Adaptive_histogram_equalization) algorithm apply to the lightness component of `data_out` projected into the [LAB color space](https://en.wikipedia.org/wiki/CIELAB_color_space),\n",
    "following a [stackoverflow comment](https://stackoverflow.com/a/47370615)."
   ]
  },
  {
   "cell_type": "code",
   "execution_count": null,
   "id": "fe717d84-1116-4280-9821-8c1fce44a963",
   "metadata": {},
   "outputs": [],
   "source": [
    "bgr = data_out # in matplotlib color image are stored in BGR order. here we just change the name of the variable.\n",
    "#rgb is projected to the lab color space\n",
    "lab = cv2.cvtColor(bgr, cv2.COLOR_BGR2LAB)\n",
    "lab_planes = cv2.split(lab)\n",
    "#run the clahe algo available in cv2\n",
    "clahe = cv2.createCLAHE(clipLimit=2.0, tileGridSize=(5,5))\n",
    "#reporject the image to the RGB space.\n",
    "lab_planes_new = ( clahe.apply(lab_planes[0]), lab_planes[1], lab_planes[2])\n",
    "lab = cv2.merge(lab_planes_new)\n",
    "bgr = cv2.cvtColor(lab, cv2.COLOR_LAB2BGR)"
   ]
  },
  {
   "cell_type": "markdown",
   "id": "6e748a9c-d65a-4157-8230-48333aa2cd60",
   "metadata": {},
   "source": [
    "## plot projected true color image  "
   ]
  },
  {
   "cell_type": "code",
   "execution_count": null,
   "id": "022afc69-2ebc-4180-ac27-cd904455758d",
   "metadata": {},
   "outputs": [],
   "source": [
    "# %matplotlib inline\n",
    "\n",
    "\n",
    "ax = plt.subplot(111)\n",
    "ax.imshow(bgr, extent=(dst_bounds[0],dst_bounds[2],dst_bounds[3],dst_bounds[1]) )\n",
    "\n",
    "    \n",
    "ax.set_xlim(xminHere,xmaxHere)\n",
    "ax.set_ylim(yminHere,ymaxHere)\n",
    "ax.set_title('sentinel2 true color image \\n from the 2023-07-16 (60m resolution)', pad=10)\n",
    "ax.set_axis_off()\n",
    "\n",
    "fontprops = fm.FontProperties(size=10)\n",
    "scalebar = AnchoredSizeBar(ax.transData,\n",
    "                           3000, '3 km', 'upper right', \n",
    "                           pad=.3,\n",
    "                           color='k',\n",
    "                           frameon=True,\n",
    "                           size_vertical=10,\n",
    "                           fontproperties=fontprops)\n",
    "\n",
    "ax.add_artist(scalebar)\n",
    "\n",
    "\n"
   ]
  },
  {
   "cell_type": "code",
   "execution_count": null,
   "id": "9ee42bf8-2071-4632-9e0c-6d0d612d1602",
   "metadata": {},
   "outputs": [],
   "source": []
  }
 ],
 "metadata": {
  "kernelspec": {
   "display_name": "Python 3 (ipykernel)",
   "language": "python",
   "name": "python3"
  },
  "language_info": {
   "codemirror_mode": {
    "name": "ipython",
    "version": 3
   },
   "file_extension": ".py",
   "mimetype": "text/x-python",
   "name": "python",
   "nbconvert_exporter": "python",
   "pygments_lexer": "ipython3",
   "version": "3.9.16"
  }
 },
 "nbformat": 4,
 "nbformat_minor": 5
}
