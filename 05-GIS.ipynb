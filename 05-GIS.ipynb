{
 "cells": [
  {
   "cell_type": "markdown",
   "id": "d997b52d-99ed-4375-a910-6df28db1f1ba",
   "metadata": {},
   "source": [
    "![logo](Data/logo.png)"
   ]
  },
  {
   "cell_type": "markdown",
   "id": "f892bace-dcb6-4060-93c7-768990c07b73",
   "metadata": {},
   "source": [
    "# Python and GIS"
   ]
  },
  {
   "cell_type": "markdown",
   "id": "b930314a-b831-4a6d-bf75-30d610546d3a",
   "metadata": {},
   "source": [
    "A Geographic Information System (GIS) is a computer system that analyzes and displays geographically referenced information. It uses data that is attached to a unique location."
   ]
  },
  {
   "cell_type": "markdown",
   "id": "cd925f75-6b83-49de-97c0-6f12573dba1c",
   "metadata": {},
   "source": [
    "Data are generally of two form: \n",
    "- **raster data**: it is made up of pixels (also referred to as grid cells). They are usually regularly spaced. Rasters often look pixelated because each pixel has its own value.\n",
    "- **vector data**: it is made of vertices and paths and therefore not attached to grid of pixels."
   ]
  },
  {
   "cell_type": "markdown",
   "id": "ebaac953-8929-4469-aa6c-513e28acca3a",
   "metadata": {},
   "source": [
    "In this course, several notebooks shows example of how to deal with raster and vector data. See the list below:"
   ]
  },
  {
   "cell_type": "markdown",
   "id": "6e6531d5-ff79-457a-80fb-e3072b4e04dc",
   "metadata": {},
   "source": [
    "- [05a-GIS-rasterio.ipynb](./05a-GIS-rasterio.ipynb) shows an example of loading and plotting a raster image using the `rasterio` and `matplotlib` libraries.\n",
    "- [05b-GIS-geopandas.ipynb](./05a-GIS-geopandas.ipynb) shows an example of how to create vector data and plot them using `geopandas` and `matplotlib`\n",
    "- [05b-GIS-.ipynb](./05a-GIS-geopandas.ipynb)"
   ]
  },
  {
   "cell_type": "code",
   "execution_count": null,
   "id": "4693d4dd-fdac-4581-b211-4dc3ef9dc2f7",
   "metadata": {},
   "outputs": [],
   "source": []
  }
 ],
 "metadata": {
  "kernelspec": {
   "display_name": "Python 3 (ipykernel)",
   "language": "python",
   "name": "python3"
  },
  "language_info": {
   "codemirror_mode": {
    "name": "ipython",
    "version": 3
   },
   "file_extension": ".py",
   "mimetype": "text/x-python",
   "name": "python",
   "nbconvert_exporter": "python",
   "pygments_lexer": "ipython3",
   "version": "3.11.2"
  }
 },
 "nbformat": 4,
 "nbformat_minor": 5
}
