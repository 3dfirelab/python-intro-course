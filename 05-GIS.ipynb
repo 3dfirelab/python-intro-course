{
 "cells": [
  {
   "cell_type": "markdown",
   "id": "f892bace-dcb6-4060-93c7-768990c07b73",
   "metadata": {},
   "source": [
    "# Python and GIS"
   ]
  },
  {
   "cell_type": "markdown",
   "id": "d2229d9b-b0e2-46b8-a4fd-08616870b5b9",
   "metadata": {},
   "source": [
    "A Geographic Information System (GIS) is a computer system that analyzes and displays geographically referenced information. It uses data that is attached to a unique location."
   ]
  },
  {
   "cell_type": "code",
   "execution_count": null,
   "id": "f533cfa8-b88d-4852-84f5-48b460050976",
   "metadata": {},
   "outputs": [],
   "source": []
  },
  {
   "cell_type": "code",
   "execution_count": null,
   "id": "674b55ed-4dfd-458c-b8a5-09aa9f906dfd",
   "metadata": {},
   "outputs": [],
   "source": []
  }
 ],
 "metadata": {
  "kernelspec": {
   "display_name": "Python 3 (ipykernel)",
   "language": "python",
   "name": "python3"
  },
  "language_info": {
   "codemirror_mode": {
    "name": "ipython",
    "version": 3
   },
   "file_extension": ".py",
   "mimetype": "text/x-python",
   "name": "python",
   "nbconvert_exporter": "python",
   "pygments_lexer": "ipython3",
   "version": "3.9.16"
  }
 },
 "nbformat": 4,
 "nbformat_minor": 5
}
