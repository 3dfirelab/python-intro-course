{
 "cells": [
  {
   "cell_type": "markdown",
   "metadata": {
    "slideshow": {
     "slide_type": "slide"
    }
   },
   "source": [
    "# Getting Started with Python and Jupyter Notebooks"
   ]
  },
  {
   "cell_type": "markdown",
   "metadata": {
    "slideshow": {
     "slide_type": "slide"
    }
   },
   "source": [
    "The purpose of this Jupyter Notebook is to get you started using Python and Jupyter Notebooks for basic use. This introduction assumes this is your first exposure to Python or Jupyter notebooks."
   ]
  },
  {
   "cell_type": "markdown",
   "metadata": {},
   "source": [
    "## Step 0: Gain Executable Access to Jupyter Notebooks"
   ]
  },
  {
   "cell_type": "markdown",
   "metadata": {
    "slideshow": {
     "slide_type": "slide"
    }
   },
   "source": [
    "Jupyter notebooks are documents that can be viewed and executed inside any modern web browser. Since you're reading this notebook, you already know how to view a Jupyter notebook. The next step is to learn how to execute computations that may be embedded in a Jupyter notebook.\n",
    "\n",
    "To execute Python code in a notebook you will need access to a Python kernal. A kernal is simply a program that runs in the background, maintains workspace memory for variables and functions, and executes Python code. The kernal can be located on the same laptop as your web browser or located in an on-line cloud service. \n"
   ]
  },
  {
   "cell_type": "markdown",
   "metadata": {},
   "source": [
    "#### Using Jupyter/Python in the Cloud"
   ]
  },
  {
   "cell_type": "markdown",
   "metadata": {
    "slideshow": {
     "slide_type": "slide"
    }
   },
   "source": [
    "The easiest way to use Jupyter notebooks is to sign up for a free or paid account on a cloud-based service such as the google platform [colab](https://colab.research.google.com/?utm_source=scs-index). You will need continuous internet connectivity to access your work, but the advantages are there is no software to install or maintain. All you need is a modern web browser on your laptop, Chromebook, tablet or other device.\n"
   ]
  },
  {
   "cell_type": "markdown",
   "metadata": {},
   "source": [
    "#### Installing Jupyter/Python on your Laptop"
   ]
  },
  {
   "cell_type": "markdown",
   "metadata": {
    "slideshow": {
     "slide_type": "slide"
    }
   },
   "source": [
    "For regular off-line use you should consider installing a Jupyter Notebook/Python environment directly on your laptop. This will provide you with reliable off-line access to a computational environment. This will also allow you to install additional code libraries to meet particular needs. \n",
    "\n",
    "Choosing this option will require an initial software installation and routine updates. For this course the recommended package is Anaconda available from [Continuum Analytics](https://www.anaconda.com/). Downloading and installing the software is well documented and easy to follow.\n",
    "\n",
    "Anaconda includes an 'Anaconda Navigator' application that simplifies startup of the notebook environment and manage the update process."
   ]
  },
  {
   "cell_type": "markdown",
   "metadata": {},
   "source": [
    "## Step 1: Start a Jupyter Notebook Session"
   ]
  },
  {
   "cell_type": "markdown",
   "metadata": {},
   "source": [
    "#### in the Cloud"
   ]
  },
  {
   "cell_type": "markdown",
   "metadata": {},
   "source": [
    "If you are using colab service a Jupyter session will be started when you log on. \n",
    "Once you have opened a session you should see a browser window like this:\n",
    "![Screen Shot colab Session](Data/colabExample.png)\n",
    "At this point, the browser displays a list of notebook. You can also import notebook from googledrive or github through the available tabs.\n",
    "this notebook is accessible via github, using `user=3dfirelab` and `repository=python-intro-course`. "
   ]
  },
  {
   "cell_type": "markdown",
   "metadata": {},
   "source": [
    "#### on your laptop"
   ]
  },
  {
   "cell_type": "markdown",
   "metadata": {},
   "source": [
    "If you have installed a Jupyter/Python distribution on your laptop then you can clone this github [repository](https://github.com/3dfirelab/python-intro-course) and open the notebook `gettingStarted.ipynb` with a jupyter session in one of two different ways:\n",
    "\n",
    "* Use the Anaconda Navigator App, or \n",
    "* open a terminal window on your laptop and execute the following statement at the command line: `jupyter notebook`\n",
    "\n",
    "Once you have opened a session you should see a browser window like this:\n",
    "![Screen Shot Jupyter Session](Data/notebookExample.png)\n",
    "\n",
    "At this point, the browser displays a list of directories and/or files. \n",
    "You can navigate among the directories in the usual way by clicking on directory names. \n",
    "\n",
    "Jupyter notebooks are files in a directory with a `.ipynb` suffix. They can be stored in any directory. Upload and create new Jupyter notebooks in the displayed directory using the appropriate buttons. Use the checkboxes to select items for other actions, such as to duplicate, to rename, or to delete notebooks and directories.\n",
    "\n",
    "* select one of your existing notebooks to work on,\n",
    "* start a new notebook by clicking on the `New Notebook` button, or \n",
    "* import a notebook from another directory by dragging it onto the list of notebooks.\n",
    "\n",
    "A notebook consists of cells that hold headings, text, or python code. The user interface is relatively self-explanatory. Take a few minutes now to open, rename, and save a new notebook. \n",
    "\n",
    "Here's a quick video overview of Jupyter notebooks. execute the block below to see the video."
   ]
  },
  {
   "cell_type": "code",
   "execution_count": null,
   "metadata": {
    "scrolled": true
   },
   "outputs": [],
   "source": [
    "from IPython.display import YouTubeVideo\n",
    "YouTubeVideo(\"HW29067qVWk\",560,315,rel=0)"
   ]
  },
  {
   "cell_type": "markdown",
   "metadata": {},
   "source": [
    "## Step 2: Simple Calculations with Python"
   ]
  },
  {
   "cell_type": "markdown",
   "metadata": {
    "jp-MarkdownHeadingCollapsed": true
   },
   "source": [
    "Python is a programming language that lets you work quickly and integrate systems more effectively... see [pyhton.org](https://www.python.org/)  \n",
    "\n",
    "In the next few cells we'll demonstrate some basic Python functionality."
   ]
  },
  {
   "cell_type": "markdown",
   "metadata": {},
   "source": [
    "### 2.1 Basic Operations"
   ]
  },
  {
   "cell_type": "markdown",
   "metadata": {},
   "source": [
    "#### 2.1.1 working with variables"
   ]
  },
  {
   "cell_type": "markdown",
   "metadata": {},
   "source": [
    "Basic arithmetic operations are built into the Python langauge. Here are some examples. In particular, note that exponentiation is done with the \\*\\* operator."
   ]
  },
  {
   "cell_type": "code",
   "execution_count": null,
   "metadata": {},
   "outputs": [],
   "source": [
    "a = 12\n",
    "b = 2\n",
    "\n",
    "print(a + b)\n",
    "print(a**b)\n",
    "print(a/b)"
   ]
  },
  {
   "cell_type": "markdown",
   "metadata": {},
   "source": [
    "below we show how to format string with variables using the `''.foramt()` command. \n",
    "see [here](https://djangocentral.com/string-formatting-in-python/) for more details on formating.\n",
    "\n",
    "Also Note that when a variable is assigned, it has no memory of how it was assigned. That is, if the value of a variable, `b`, is constructed from other variables, like `a`, reassigning a value to `a` will not change the value of `b`."
   ]
  },
  {
   "cell_type": "code",
   "execution_count": null,
   "metadata": {},
   "outputs": [],
   "source": [
    "a = 12\n",
    "b = a\n",
    "print('a={:d} b={:d}'.format(a, b))\n",
    "a = a + 1\n",
    "print('a={:d} b={:d}'.format(a, b))"
   ]
  },
  {
   "cell_type": "markdown",
   "metadata": {},
   "source": [
    "Variable can be of different type: `integer`, `float`, `string`, `boolean` "
   ]
  },
  {
   "cell_type": "code",
   "execution_count": null,
   "metadata": {},
   "outputs": [],
   "source": [
    "a=1\n",
    "b=1.e0\n",
    "c='one'\n",
    "d=True"
   ]
  },
  {
   "cell_type": "markdown",
   "metadata": {},
   "source": [
    "basic examples of string manipulation"
   ]
  },
  {
   "cell_type": "code",
   "execution_count": null,
   "metadata": {},
   "outputs": [],
   "source": [
    "print(c+c) # concatenation\n",
    "print(c.replace('ne', 'bvious')) # replacement of part of the string\n",
    "print(c) "
   ]
  },
  {
   "cell_type": "markdown",
   "metadata": {},
   "source": [
    "#### 2.1.2 Working with Lists\n",
    "\n",
    "Lists are a versatile way of organizing your data in Python. Here are some examples, more can be found on [this Khan Academy video](http://youtu.be/zEyEC34MY1A)."
   ]
  },
  {
   "cell_type": "code",
   "execution_count": null,
   "metadata": {},
   "outputs": [],
   "source": [
    "xList = [1, 2, 3, 4]\n",
    "xList"
   ]
  },
  {
   "cell_type": "markdown",
   "metadata": {},
   "source": [
    "Concatentation is the operation of joining one list to another. "
   ]
  },
  {
   "cell_type": "code",
   "execution_count": null,
   "metadata": {},
   "outputs": [],
   "source": [
    "# Concatenation\n",
    "x = [1, 2, 3, 4]\n",
    "y = [5, 6, 7, 8]\n",
    "\n",
    "x + y"
   ]
  },
  {
   "cell_type": "markdown",
   "metadata": {},
   "source": [
    "A `for` loop is a means for iterating over the elements of a list. The colon marks the start of code that will be executed for each element of a list. Indenting has meaning in Python. In this case, everything in the indented block will be executed on each iteration of the for loop. This example also uses string formatting."
   ]
  },
  {
   "cell_type": "code",
   "execution_count": null,
   "metadata": {},
   "outputs": [],
   "source": [
    "import math # mathematical functions \n",
    "for xx in x:\n",
    "    print(\"sin({0}) = {1:8.5f}\".format(xx,math.sin(xx)))"
   ]
  },
  {
   "cell_type": "markdown",
   "metadata": {},
   "source": [
    "Assignment with an `=` on lists does not make a copy. Instead, assignment makes the two variables point to the one list in memory. "
   ]
  },
  {
   "cell_type": "code",
   "execution_count": null,
   "metadata": {},
   "outputs": [],
   "source": [
    "a = [1,2,3]\n",
    "b = a\n",
    "a += [0]\n",
    "print(b)"
   ]
  },
  {
   "cell_type": "markdown",
   "metadata": {},
   "source": [
    "#### 2.1.3 Working with Dictionaries\n",
    "\n",
    "Dictionaries are useful for storing and retrieving data as key-value pairs.  For example, here is a short dictionary of molar masses. The keys are molecular formulas, and the values are the corresponding molar masses."
   ]
  },
  {
   "cell_type": "code",
   "execution_count": null,
   "metadata": {},
   "outputs": [],
   "source": [
    "mw = {'CH4': 16.04, 'H2O': 18.02, 'O2':32.00, 'CO2': 44.01}\n",
    "mw"
   ]
  },
  {
   "cell_type": "markdown",
   "metadata": {},
   "source": [
    "We can a value to an existing dictionary."
   ]
  },
  {
   "cell_type": "code",
   "execution_count": null,
   "metadata": {},
   "outputs": [],
   "source": [
    "mw['C8H18'] = 114.23\n",
    "mw"
   ]
  },
  {
   "cell_type": "markdown",
   "metadata": {},
   "source": [
    "We can retrieve a value from a dictionary."
   ]
  },
  {
   "cell_type": "code",
   "execution_count": null,
   "metadata": {},
   "outputs": [],
   "source": [
    "mw['CH4']"
   ]
  },
  {
   "cell_type": "markdown",
   "metadata": {},
   "source": [
    "A for loop is a useful means of interating over all key-value pairs of a dictionary."
   ]
  },
  {
   "cell_type": "code",
   "execution_count": null,
   "metadata": {},
   "outputs": [],
   "source": [
    "for species in mw.keys():\n",
    "    print(\"The molar mass of {:<s} is {:<7.2f}\".format(species, mw[species]))"
   ]
  },
  {
   "cell_type": "markdown",
   "metadata": {},
   "source": [
    "Dictionaries can be sorted by key or by value"
   ]
  },
  {
   "cell_type": "code",
   "execution_count": null,
   "metadata": {},
   "outputs": [],
   "source": [
    "for species in sorted(mw):\n",
    "    print(\" {:<8s}  {:>7.2f}\".format(species, mw[species]))"
   ]
  },
  {
   "cell_type": "code",
   "execution_count": null,
   "metadata": {},
   "outputs": [],
   "source": [
    "for species in sorted(mw, key = mw.get):\n",
    "    print(\" {:<8s}  {:>7.2f}\".format(species, mw[species]))"
   ]
  },
  {
   "cell_type": "markdown",
   "metadata": {},
   "source": [
    "### 2.2 Python Libraries: "
   ]
  },
  {
   "cell_type": "markdown",
   "metadata": {},
   "source": [
    "Python is build on an ocean of libraries that serve various purposes. Some of the most important are briefly introduced here:\n",
    "    \n",
    "* Numpy: NumPy offers comprehensive mathematical functions, random number generators, linear algebra routines, Fourier transforms, and more. (see below)    \n",
    "* Matplotlib: plotting (see below)\n",
    "* Pandas: data analysis dataframe (see below)\n",
    "\n",
    "Other important libraries are: \n",
    "* TensorFlow: machine learning\n",
    "* Scikit-Learn: machine learning\n",
    "* Keras: machine learning\n",
    "* SciPy: algorithms for optimization, integration, interpolation, eigenvalue problems, algebraic equations, differential equations,\n",
    "* OpenCV: image processing\n",
    "    \n",
    "A library needs to be installed in your environement and then imported in your code.\n",
    "to install a library in the loaded python environment in the running kernel you can use the command `%conda install` directly in the notbook.\n",
    "For example to install the libraries necessary to run the next cells, install numpy, matplotlib and pandas :\n",
    "```\n",
    "%conda install numpy matplotlib pandas\n",
    "```"
   ]
  },
  {
   "cell_type": "markdown",
   "metadata": {},
   "source": [
    "#### 2.2.1 Working with array: the numpy library\n",
    "\n",
    "The Python language has only very basic operations. Most math functions are in various libraries. The `numpy` library is convenient library.  This next cell shows how to import `numpy` with the prefix `np`, then use it to call a common mathematical functions.\n",
    "\n",
    "Also note, comment can be added in python code using the character `#`"
   ]
  },
  {
   "cell_type": "code",
   "execution_count": null,
   "metadata": {},
   "outputs": [],
   "source": [
    "import numpy as np\n",
    "\n",
    "# mathematical constants\n",
    "print(np.pi)\n",
    "print(np.e)\n",
    "\n",
    "# trignometric functions\n",
    "angle = np.pi/4\n",
    "print(np.sin(angle))\n",
    "print(np.cos(angle))\n",
    "print(np.tan(angle))"
   ]
  },
  {
   "cell_type": "markdown",
   "metadata": {},
   "source": [
    "once imported in one block, librairy can be used in other block.\n",
    "\n",
    "Numpy is the standard librairy in python to handle arrays."
   ]
  },
  {
   "cell_type": "code",
   "execution_count": null,
   "metadata": {},
   "outputs": [],
   "source": [
    "x = np.arange(3, dtype=float) # one dimensional array of the suite 0,1,2 with type float \n",
    "print('1d array = ', x)\n",
    "x = np.random.random([3,3]) # 2-dimensional array of random number picked between 0 and 1\n",
    "print('2d array = ',)\n",
    "print(x)"
   ]
  },
  {
   "cell_type": "markdown",
   "metadata": {},
   "source": [
    "numpy function can also be used with list. \n",
    "for example, the sum a list element can be done as follows"
   ]
  },
  {
   "cell_type": "code",
   "execution_count": null,
   "metadata": {},
   "outputs": [],
   "source": [
    "x = [0,1,2,3,4]\n",
    "y = [5, 6, 7, 8, 9]\n",
    "print(type(x))\n",
    "np.sum(x)"
   ]
  },
  {
   "cell_type": "markdown",
   "metadata": {},
   "source": [
    "element-by-element operation between two lists may be performed with "
   ]
  },
  {
   "cell_type": "code",
   "execution_count": null,
   "metadata": {},
   "outputs": [],
   "source": [
    "print(np.add(x,y))\n",
    "print(np.dot(x,y))"
   ]
  },
  {
   "cell_type": "code",
   "execution_count": null,
   "metadata": {},
   "outputs": [],
   "source": []
  },
  {
   "cell_type": "markdown",
   "metadata": {},
   "source": [
    "#### 2.2.2 Plotting with Matplotlib\n",
    "\n",
    "Importing the `matplotlib.pyplot` library gives notebooks plotting functionality. Here are some examples using functions from the nyumpy librairy "
   ]
  },
  {
   "cell_type": "code",
   "execution_count": null,
   "metadata": {},
   "outputs": [],
   "source": [
    "%matplotlib inline\n",
    "\n",
    "import matplotlib.pyplot as plt\n",
    "import numpy as np\n",
    "\n",
    "x = np.linspace(0,10)\n",
    "y = np.sin(x)\n",
    "z = np.cos(x)\n",
    "\n",
    "plt.plot(x,y,'b',x,z,'r')\n",
    "plt.xlabel('Radians');\n",
    "plt.ylabel('Value');\n",
    "plt.title('Plotting Demonstration')\n",
    "plt.legend(['Sin','Cos'])\n",
    "plt.grid()"
   ]
  },
  {
   "cell_type": "code",
   "execution_count": null,
   "metadata": {},
   "outputs": [],
   "source": [
    "plt.plot(y,z)\n",
    "plt.axis('equal')"
   ]
  },
  {
   "cell_type": "code",
   "execution_count": null,
   "metadata": {},
   "outputs": [],
   "source": [
    "plt.subplot(2,1,1)\n",
    "plt.plot(x,y)\n",
    "plt.title('Sin(x)')\n",
    "\n",
    "plt.subplot(2,1,2)\n",
    "plt.plot(x,z)\n",
    "plt.title('Cos(x)')"
   ]
  },
  {
   "cell_type": "markdown",
   "metadata": {},
   "source": [
    "#### 2.2.3 Working with series and dataframe: the Pandas librairy\n"
   ]
  },
  {
   "cell_type": "markdown",
   "metadata": {},
   "source": [
    "pandas is a fast, powerful, flexible and easy to use data analysis and manipulation tool. \n",
    "Two structures exist: `Series` (1 dimensional array capable of holding any data type with available tool ideal for time series manipulation) and `dataFrame` (2 dimensional array with availble tools very similar to excel functionality). \n",
    "\n",
    "see [here](https://pandas.pydata.org/docs/user_guide/10min.html) for a 10 min introduction to pandas."
   ]
  },
  {
   "cell_type": "code",
   "execution_count": null,
   "metadata": {},
   "outputs": [],
   "source": [
    "%matplotlib inline\n",
    "\n",
    "import pandas as pd\n",
    "import matplotlib.pyplot as plt\n",
    "\n",
    "#example of Series\n",
    "##################\n",
    "rng = pd.date_range(\"9/7/2023\", periods=20, freq=\"2S\")\n",
    "ts = pd.Series(np.random.randint(0, 500, len(rng)), index=rng)\n",
    "\n",
    "ax = plt.subplot(111)\n",
    "ts.plot(ax=ax, color='b')\n",
    "tsResampMax = ts.resample(\"4S\").max()\n",
    "tsResampMin = ts.resample(\"4S\").min()\n",
    "\n",
    "tsResampMax.plot(ax=ax,color='r', label='resampled max')\n",
    "tsResampMin.plot(ax=ax,color='g', label='resampled min')\n",
    "plt.legend()\n"
   ]
  },
  {
   "cell_type": "code",
   "execution_count": null,
   "metadata": {},
   "outputs": [],
   "source": [
    "#example of dataframe\n",
    "#####################\n",
    "\n",
    "df = pd.DataFrame(np.random.randn(20, 4), columns=[\"A\", \"B\", \"C\", \"D\"])\n",
    "df = df.cumsum()\n",
    "df.index = pd.to_datetime(ts.index)\n",
    "\n",
    "plt.figure()\n",
    "df[[\"A\", \"B\", \"C\", \"D\"]].plot()\n",
    "plt.legend(loc='best')\n",
    "df.head()\n"
   ]
  },
  {
   "cell_type": "code",
   "execution_count": null,
   "metadata": {},
   "outputs": [],
   "source": [
    "#dataframe is resample at 6 seconds interval and variable A is ploted with min and max over the 6s intervals\n",
    "\n",
    "from matplotlib.ticker import MultipleLocator\n",
    "\n",
    "dfmax=df.groupby(pd.Grouper(freq='6S',origin='start')).max()\n",
    "dfmin=df.groupby(pd.Grouper(freq='6S',origin='start')).min()\n",
    "\n",
    "ax = plt.subplot(111)\n",
    "times = dfmin.index.values\n",
    "ax.fill_between(times, dfmin['A'], dfmax['A'], alpha=0.5,label='min/max A over 6s')\n",
    "ax.plot(df.index.values,df['A'],marker='o', label='A')\n",
    "ax.legend()\n",
    "\n",
    "#Create the 5S time series\n",
    "major_index = pd.date_range(\"9/7/2023\", periods=8, freq=\"6S\")\n",
    "xticklabels = [x.strftime('%M.%S') for x in major_index]\n",
    "\n",
    "#Set the ticks to be the 6 hourly data\n",
    "ax.set_xticks(major_index)\n",
    "ax.set_xticklabels(xticklabels)\n",
    "ax.set_xlabel('time (s)')\n",
    "\n",
    "#Make the minor ticks every hour\n",
    "#ax.xaxis.set_minor_locator(MultipleLocator(1))\n",
    "\n",
    "#Add the grid lines based on style\n",
    "#ax.grid('on', which='minor', axis='x', linestyle=\"--\")\n",
    "ax.grid('on', which='major', axis='x', linestyle=\"-\",linewidth=1)\n",
    "\n"
   ]
  },
  {
   "cell_type": "markdown",
   "metadata": {},
   "source": [
    "#### 2.2.4 Solve Equations using Sympy Library\n",
    "\n",
    "One of the best features of Python is the ability to extend it's functionality by importing libraries/modules of functions. Here we demonstrate the use of a symbolic algebra package [`Sympy`](http://sympy.org/en/index.html) for routine problem solving like Mathematica.  "
   ]
  },
  {
   "cell_type": "code",
   "execution_count": null,
   "metadata": {},
   "outputs": [],
   "source": [
    "## if library not installed\n",
    "## to install library in the activated kernel\n",
    "## %conda install sympy\n",
    "\n",
    "import sympy as sym\n",
    "\n",
    "sym.var('P V n R T');\n",
    "\n",
    "# Gas constant\n",
    "R = 8.314        # J/K/gmol\n",
    "R = R * 1000     # J/K/kgmol\n",
    "\n",
    "# Moles of air\n",
    "mAir = 1         # kg\n",
    "mwAir = 28.97    # kg/kg-mol\n",
    "n = mAir/mwAir   # kg-mol\n",
    "\n",
    "# Temperature\n",
    "T = 298\n",
    "\n",
    "# Equation\n",
    "eqn = sym.Eq(P*V,n*R*T)\n",
    "\n",
    "# Solve for P \n",
    "f = sym.solve(eqn,P)\n",
    "print(f[0])\n",
    "\n",
    "# Use the sympy plot function to plot\n",
    "sym.plot(f[0],(V,1,10),xlabel='Volume m**3',ylabel='Pressure Pa')\n"
   ]
  },
  {
   "cell_type": "markdown",
   "metadata": {},
   "source": [
    "#### 2.2.5 Linear interpolation using Scipy\n",
    "\n",
    "Another example of librairy utilisation"
   ]
  },
  {
   "cell_type": "code",
   "execution_count": null,
   "metadata": {},
   "outputs": [],
   "source": [
    "from scipy import interpolate\n",
    "\n",
    "x = np.arange(0, 10)\n",
    "#y = np.exp(-x/3.0)\n",
    "y = np.sin(x)\n",
    "\n",
    "f1 = interpolate.interp1d(x, y, kind='linear')\n",
    "f2 = interpolate.interp1d(x, y, kind='cubic')\n",
    "\n",
    "xnew = np.arange(0, 9, 0.1)\n",
    "\n",
    "plt.plot(x, y, 'o', )\n",
    "plt.plot(xnew, np.sin(xnew), c='k', linewidth=10, alpha=0.2, label='sinus')\n",
    "plt.plot(xnew, f1(xnew), '-', c='k', label='linear interp')\n",
    "plt.plot(xnew, f2(xnew), '-', c='r', label='cubic interp')\n",
    "plt.legend()\n",
    "plt.show()"
   ]
  },
  {
   "cell_type": "markdown",
   "metadata": {},
   "source": [
    "see [scipy documention](https://docs.scipy.org/doc/scipy/tutorial/interpolate.html) for more interpolation fucntion."
   ]
  },
  {
   "cell_type": "markdown",
   "metadata": {},
   "source": [
    "## Step 3: Where to Learn More\n",
    "\n",
    "Python offers a full range of programming language features, and there is a seemingly endless range of packages for scientific and engineering computations. Here are some suggestions on places you can go for more information on programming for engineering applications in Python."
   ]
  },
  {
   "cell_type": "markdown",
   "metadata": {},
   "source": [
    "### Introduction to Python for Science\n",
    "\n",
    "This excellent introduction to python is aimed at undergraduates in science with no programming experience. It is free and available at the following link.\n",
    "\n",
    "* [Introduction to Python for Science](https://lectures.scientific-python.org/)\n",
    "* [google for developers](https://developers.google.com/edu/python/lists)"
   ]
  },
  {
   "cell_type": "markdown",
   "metadata": {},
   "source": [
    "### Interactive learning and on-line tutorials\n",
    "\n",
    "* [learnpython.org](https://www.learnpython.org/)\n",
    "* [w3schools.com](https://www.w3schools.com/python/default.asp)\n",
    "  "
   ]
  },
  {
   "cell_type": "markdown",
   "metadata": {},
   "source": [
    "### Official documentation, examples, and galleries\n",
    "\n",
    "* [Notebook Gallery](https://nbviewer.org/)\n",
    "* [Matplotlib](http://matplotlib.org/index.html)\n",
    "* [Scikitlearn](https://scikit-learn.org/stable/)\n"
   ]
  },
  {
   "cell_type": "markdown",
   "metadata": {},
   "source": [
    "### Google Search\n",
    "* target [stackoverflow](https://stackoverflow.com/) website in your search. The server is full of python script that can help you solve your problem."
   ]
  },
  {
   "cell_type": "markdown",
   "metadata": {},
   "source": [
    "## Reference:\n",
    "this notebook was inspired from this original [notebook](https://jckantor.github.io/CBE30338/01.01-Getting-Started-with-Python-and-Jupyter-Notebooks.html)."
   ]
  },
  {
   "cell_type": "code",
   "execution_count": null,
   "metadata": {},
   "outputs": [],
   "source": []
  }
 ],
 "metadata": {
  "anaconda-cloud": {},
  "kernelspec": {
   "display_name": "Python 3 (ipykernel)",
   "language": "python",
   "name": "python3"
  },
  "language_info": {
   "codemirror_mode": {
    "name": "ipython",
    "version": 3
   },
   "file_extension": ".py",
   "mimetype": "text/x-python",
   "name": "python",
   "nbconvert_exporter": "python",
   "pygments_lexer": "ipython3",
   "version": "3.9.16"
  }
 },
 "nbformat": 4,
 "nbformat_minor": 4
}
