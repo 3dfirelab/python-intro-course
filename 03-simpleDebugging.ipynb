{
 "cells": [
  {
   "cell_type": "markdown",
   "id": "6e119cef-c421-43c0-9dd2-e38374e6ea5f",
   "metadata": {},
   "source": [
    "# Simple Example of debugging"
   ]
  },
  {
   "cell_type": "markdown",
   "id": "8de46570-9774-4121-9a75-15504ceb9089",
   "metadata": {},
   "source": [
    "Switch to `Jupyterlab` using the button on the top right.\n",
    "JupyterLab offers a more advanced, feature rich, customizable experience compared to Jupyter Notebook.\n",
    "\n",
    "The `debugging` mode can be enabled in the same top right menu.\n",
    "In Jupyterlab, values of variables present in the memory can be seen in direct in the right tab when debugging.\n",
    "\n",
    "Once the debugging mode is activated, `break point` can be set when cliking in the grey zone on the left on the line number.\n",
    "Break points are used to stop the execution of the code at given lines to investigate the values of the varibales at this stage and understand the behaviour of the code. "
   ]
  },
  {
   "cell_type": "code",
   "execution_count": null,
   "id": "d2fc45de-e029-45ae-a4ca-47cd94a73cc9",
   "metadata": {},
   "outputs": [],
   "source": [
    "class MyVariables:\n",
    "    def __init__(self,x,y):\n",
    "        self.x = x\n",
    "        self.y = y\n",
    "\n",
    "    def incr(self,a,b):\n",
    "        self.x += a\n",
    "        self.y += b"
   ]
  },
  {
   "cell_type": "code",
   "execution_count": null,
   "id": "8174d84d-a6da-4b42-a761-033b21fe09bc",
   "metadata": {
    "editable": true,
    "slideshow": {
     "slide_type": ""
    },
    "tags": []
   },
   "outputs": [],
   "source": [
    "myvar = MyVariables(4,5)\n",
    "myvar.incr(2,3)\n",
    "\n",
    "a = 3\n",
    "b = a\n",
    "pdb.set_trace()\n",
    "a +=1\n",
    "\n",
    "c = 4"
   ]
  },
  {
   "cell_type": "markdown",
   "id": "f7221050-70ed-49ca-a6bd-d122a0e76092",
   "metadata": {},
   "source": [
    "For mode details on using debugging in jupyterlab see [here](https://jupyterlab.readthedocs.io/en/stable/user/debugger.html)."
   ]
  },
  {
   "cell_type": "markdown",
   "id": "5bf9cb96-cd52-492f-9858-397b9b9725d0",
   "metadata": {},
   "source": [
    "debugging can also be set in the code using the module `pdb`"
   ]
  },
  {
   "cell_type": "code",
   "execution_count": null,
   "id": "ff92554f-df3b-4170-90b9-6300b2287988",
   "metadata": {},
   "outputs": [],
   "source": [
    "import pdb"
   ]
  },
  {
   "cell_type": "code",
   "execution_count": null,
   "id": "aca3e009-9179-48b6-a14e-b3f76f7ebcd6",
   "metadata": {},
   "outputs": [],
   "source": [
    "i = 0\n",
    "while True:\n",
    "    i -= 1\n",
    "    if i > 4: \n",
    "        break"
   ]
  },
  {
   "cell_type": "markdown",
   "id": "8d4adc21-b8c3-45b2-9252-b878a5e1438d",
   "metadata": {},
   "source": [
    "the above cell has an infinite loop.\n",
    "you can kill it with the square button in the top menu."
   ]
  },
  {
   "cell_type": "markdown",
   "id": "98906d54-34cc-47d1-884c-e2b04066fe21",
   "metadata": {},
   "source": [
    "to investigate how the value of `i` changes, you can use pdb.set_trace() to set break point and print the variable value in the ipdb interface.\n",
    "the ipdb interface gives you a prompt where you can interact with the code using python command.\n",
    "and navigate between the break point using the following command:\n",
    "\n",
    "| commmand    |  descritpion |\n",
    "|:------------|:------------|\n",
    "|continue or c \t| Continue execution, only stop when a breakpoint is encountered.|\n",
    "|help or h \t| Without an argument, this will print the list of available commands. With a command as an argument, print help for that command. help pdb displays the full documentation (the docstring of the pdb module). Since the command argument must be an identifier, help exec must be entered to get help on the ! command.|\n",
    "|next or n \t| Continue execution until the next line in the current function is reached. Stops outside of the called function.|\n",
    "|quit or q \t| Quits the debugger and aborts the debugging session.|"
   ]
  },
  {
   "cell_type": "code",
   "execution_count": null,
   "id": "a309dda4-7e14-4ff9-b911-acd0ef078e77",
   "metadata": {},
   "outputs": [],
   "source": [
    "i = 0\n",
    "while True:\n",
    "    i -= 1\n",
    "    if i > 4: \n",
    "        break\n",
    "    pdb.set_trace()"
   ]
  },
  {
   "cell_type": "code",
   "execution_count": null,
   "id": "f90fdcdd-629c-4436-99a6-b6f55a702205",
   "metadata": {},
   "outputs": [],
   "source": []
  }
 ],
 "metadata": {
  "kernelspec": {
   "display_name": "Python 3 (ipykernel)",
   "language": "python",
   "name": "python3"
  },
  "language_info": {
   "codemirror_mode": {
    "name": "ipython",
    "version": 3
   },
   "file_extension": ".py",
   "mimetype": "text/x-python",
   "name": "python",
   "nbconvert_exporter": "python",
   "pygments_lexer": "ipython3",
   "version": "3.9.16"
  }
 },
 "nbformat": 4,
 "nbformat_minor": 5
}
