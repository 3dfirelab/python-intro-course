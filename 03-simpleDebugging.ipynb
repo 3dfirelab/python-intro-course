{
 "cells": [
  {
   "cell_type": "markdown",
   "id": "6e119cef-c421-43c0-9dd2-e38374e6ea5f",
   "metadata": {},
   "source": [
    "# Simple Example of debugging"
   ]
  },
  {
   "cell_type": "markdown",
   "id": "8de46570-9774-4121-9a75-15504ceb9089",
   "metadata": {},
   "source": [
    "Switch to `Jupyterlab` using the button on the top right.\n",
    "JupyterLab offers a more advanced, feature rich, customizable experience compared to Jupyter Notebook.\n",
    "\n",
    "The `debugging` mode can be enabled in the same top right menu.\n",
    "In Jupyterlab, values of variables present in the memory can be seen in direct in the right tab when debugging.\n",
    "\n",
    "Once the debugging mode is activated, `break point` can be set when cliking in the grey zone on the left on the line number.\n",
    "Break points are used to stop the execution of the code at given lines to investigate the values of the varibales at this stage and understand the behaviour of the code. "
   ]
  },
  {
   "cell_type": "code",
   "execution_count": 1,
   "id": "d2fc45de-e029-45ae-a4ca-47cd94a73cc9",
   "metadata": {},
   "outputs": [],
   "source": [
    "class MyVariables:\n",
    "    def __init__(self,x,y):\n",
    "        self.x = x\n",
    "        self.y = y\n",
    "\n",
    "    def incr(self,a,b):\n",
    "        self.x += a\n",
    "        self.y += b"
   ]
  },
  {
   "cell_type": "code",
   "execution_count": 2,
   "id": "8174d84d-a6da-4b42-a761-033b21fe09bc",
   "metadata": {
    "editable": true,
    "slideshow": {
     "slide_type": ""
    },
    "tags": []
   },
   "outputs": [],
   "source": [
    "myvar = MyVariables(4,5)\n",
    "myvar.incr(2,3)\n",
    "\n",
    "a = 3\n",
    "b = a\n",
    "\n",
    "a +=1\n",
    "\n",
    "c = 4"
   ]
  },
  {
   "cell_type": "markdown",
   "id": "f7221050-70ed-49ca-a6bd-d122a0e76092",
   "metadata": {},
   "source": [
    "For mode details on using debugging in jupyterlab see [here](https://jupyterlab.readthedocs.io/en/stable/user/debugger.html)."
   ]
  },
  {
   "cell_type": "code",
   "execution_count": null,
   "id": "fa51ef6d-6ceb-41e3-9153-8c5b3805df45",
   "metadata": {},
   "outputs": [],
   "source": []
  }
 ],
 "metadata": {
  "kernelspec": {
   "display_name": "Python 3 (ipykernel)",
   "language": "python",
   "name": "python3"
  },
  "language_info": {
   "codemirror_mode": {
    "name": "ipython",
    "version": 3
   },
   "file_extension": ".py",
   "mimetype": "text/x-python",
   "name": "python",
   "nbconvert_exporter": "python",
   "pygments_lexer": "ipython3",
   "version": "3.9.16"
  }
 },
 "nbformat": 4,
 "nbformat_minor": 5
}
