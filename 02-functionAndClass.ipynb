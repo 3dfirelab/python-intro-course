{
 "cells": [
  {
   "cell_type": "markdown",
   "id": "edcedfc5-9584-4914-b3d0-006175f69f17",
   "metadata": {},
   "source": [
    "# Working with Function"
   ]
  },
  {
   "cell_type": "markdown",
   "id": "b5648898-6023-4232-9aec-5f22da27da59",
   "metadata": {},
   "source": [
    "A function is a block of code which only runs when it is called.\n",
    "You can pass data, known as parameters, into a function.\n",
    "A function can return data as a result."
   ]
  },
  {
   "cell_type": "code",
   "execution_count": 20,
   "id": "abea0258-e446-49cc-9962-4ad1bfe6dd3f",
   "metadata": {},
   "outputs": [
    {
     "name": "stdout",
     "output_type": "stream",
     "text": [
      "4\n"
     ]
    }
   ],
   "source": [
    "def MyFunction(x):\n",
    "    return 2*x\n",
    "\n",
    "print(MyFunction(2))"
   ]
  },
  {
   "cell_type": "markdown",
   "id": "f5215dea-fcc0-40bc-a2d0-3d005afcd4cf",
   "metadata": {},
   "source": [
    "function can also be defined with a `one line` format using the `lambda` formulation"
   ]
  },
  {
   "cell_type": "code",
   "execution_count": 21,
   "id": "0c012d0b-a482-474b-b9ed-9ff5b3c64bb2",
   "metadata": {},
   "outputs": [
    {
     "name": "stdout",
     "output_type": "stream",
     "text": [
      "13\n"
     ]
    }
   ],
   "source": [
    "MyFunction = lambda x, y, z : x + y + z\n",
    "print(x(5, 6, 2)) "
   ]
  },
  {
   "cell_type": "markdown",
   "id": "81b25472-a50a-4e48-a1eb-f7ac571721a0",
   "metadata": {},
   "source": [
    "# Working with Class"
   ]
  },
  {
   "cell_type": "markdown",
   "id": "ac26a157-afc0-446b-b483-c0a83a4ede5f",
   "metadata": {},
   "source": [
    "Classes provide a means of bundling data and functionality together. Creating a new class creates a new type of object, allowing new instances of that type to be made. Each class instance can have attributes attached to it for maintaining its state. Class instances can also have function (defined by its class) for modifying its state. see [here](https://docs.python.org/3/tutorial/classes.html) for more details"
   ]
  },
  {
   "cell_type": "markdown",
   "id": "49ab7453-d2ff-41d1-ad99-e4c08c2cae78",
   "metadata": {},
   "source": [
    "example of a class named person that has 2 states variables `name` and `age` and a method that can print both variables.\n",
    "\n",
    "The `__init__` function is used to defined the state variable of the class instance.\n",
    "The `self` parameter is a reference to the current instance of the class, and is used to access variables that belongs to the class."
   ]
  },
  {
   "cell_type": "code",
   "execution_count": 22,
   "id": "1e73a4ca-f569-4b0d-b2eb-fbcc467fae0a",
   "metadata": {},
   "outputs": [
    {
     "name": "stdout",
     "output_type": "stream",
     "text": [
      "Hello my name is John. I am 36 years old\n",
      "Hello my name is John. I am 38 years old\n"
     ]
    }
   ],
   "source": [
    "class Person:\n",
    "  def __init__(self, name, age):\n",
    "    self.name = name\n",
    "    self.age = age\n",
    "\n",
    "  def sayHello(self):\n",
    "    print('Hello my name is {:s}. I am {:d} years old'.format(self.name, self.age))\n",
    "      \n",
    "  def incrAge(self,incr):\n",
    "        self.age += incr\n",
    "      \n",
    "\n",
    "p1 = Person(\"John\", 36)\n",
    "p1.sayHello()\n",
    "p1.incrAge(2)\n",
    "p1.sayHello()\n"
   ]
  },
  {
   "cell_type": "code",
   "execution_count": null,
   "id": "76ecc25c-0f67-41ba-8549-96ccbbc3df05",
   "metadata": {},
   "outputs": [],
   "source": []
  }
 ],
 "metadata": {
  "kernelspec": {
   "display_name": "Python 3 (ipykernel)",
   "language": "python",
   "name": "python3"
  },
  "language_info": {
   "codemirror_mode": {
    "name": "ipython",
    "version": 3
   },
   "file_extension": ".py",
   "mimetype": "text/x-python",
   "name": "python",
   "nbconvert_exporter": "python",
   "pygments_lexer": "ipython3",
   "version": "3.9.16"
  }
 },
 "nbformat": 4,
 "nbformat_minor": 5
}
