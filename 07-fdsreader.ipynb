{
 "cells": [
  {
   "cell_type": "code",
   "execution_count": null,
   "id": "1eafa842-5fe7-4f21-ab20-bf6d6da600be",
   "metadata": {},
   "outputs": [],
   "source": [
    "![logo](Data/logo.png)"
   ]
  },
  {
   "cell_type": "markdown",
   "id": "9b518ab2-1887-4b0a-8f94-33216609dc7c",
   "metadata": {},
   "source": [
    "This notebook is an example of how to use the [fdsreader](https://github.com/FireDynamics/fdsreader) livrairy to extract data from FDS simulation. "
   ]
  },
  {
   "cell_type": "code",
   "execution_count": 1,
   "id": "69314fc0-09d7-46f7-b4ae-f28e6ccde242",
   "metadata": {},
   "outputs": [
    {
     "name": "stderr",
     "output_type": "stream",
     "text": [
      "Matplotlib is building the font cache; this may take a moment.\n"
     ]
    }
   ],
   "source": [
    "import fdsreader\n",
    "import numpy as np \n",
    "import matplotlib.pyplot as plt"
   ]
  },
  {
   "cell_type": "code",
   "execution_count": 57,
   "id": "e2e0a642-83ac-46b9-afd8-418d973bb2bc",
   "metadata": {},
   "outputs": [
    {
     "data": {
      "text/plain": [
       "'1.10.4'"
      ]
     },
     "execution_count": 57,
     "metadata": {},
     "output_type": "execute_result"
    }
   ],
   "source": [
    "fdsreader.__version__"
   ]
  },
  {
   "cell_type": "code",
   "execution_count": null,
   "id": "7c463509-b4a6-41d7-b854-138557f36734",
   "metadata": {},
   "outputs": [],
   "source": [
    "## load simulation "
   ]
  },
  {
   "cell_type": "code",
   "execution_count": 2,
   "id": "8c1cd6fe-fb20-4495-b703-c9d756683176",
   "metadata": {},
   "outputs": [
    {
     "name": "stderr",
     "output_type": "stream",
     "text": [
      "/home/paugam/anaconda3/envs/ff-vtk/lib/python3.11/site-packages/numpy/lib/_npyio_impl.py:1021: UserWarning: no explicit representation of timezones available for np.datetime64\n",
      "  arr = _load_from_filelike(\n"
     ]
    }
   ],
   "source": [
    "sim = fdsreader.Simulation('Data/Steckler/')\n"
   ]
  },
  {
   "cell_type": "markdown",
   "id": "4b942f07-5109-4c77-925e-eb1893ad11b2",
   "metadata": {},
   "source": [
    "## load devices to panda data frame"
   ]
  },
  {
   "cell_type": "code",
   "execution_count": 55,
   "id": "5153f4e3-16d7-4508-bd9f-01a59b6512b6",
   "metadata": {},
   "outputs": [],
   "source": [
    "df_dev = sim.devices.to_pandas_dataframe()\n",
    "tc = df_dev.filter(like='Z') # select time and thermocouples"
   ]
  },
  {
   "cell_type": "code",
   "execution_count": 56,
   "id": "a5f5c960-5752-4d5e-964d-7d4c888756b8",
   "metadata": {},
   "outputs": [
    {
     "data": {
      "text/html": [
       "<div>\n",
       "<style scoped>\n",
       "    .dataframe tbody tr th:only-of-type {\n",
       "        vertical-align: middle;\n",
       "    }\n",
       "\n",
       "    .dataframe tbody tr th {\n",
       "        vertical-align: top;\n",
       "    }\n",
       "\n",
       "    .dataframe thead th {\n",
       "        text-align: right;\n",
       "    }\n",
       "</style>\n",
       "<table border=\"1\" class=\"dataframe\">\n",
       "  <thead>\n",
       "    <tr style=\"text-align: right;\">\n",
       "      <th></th>\n",
       "    </tr>\n",
       "  </thead>\n",
       "  <tbody>\n",
       "    <tr>\n",
       "      <th>0</th>\n",
       "    </tr>\n",
       "    <tr>\n",
       "      <th>1</th>\n",
       "    </tr>\n",
       "    <tr>\n",
       "      <th>2</th>\n",
       "    </tr>\n",
       "    <tr>\n",
       "      <th>3</th>\n",
       "    </tr>\n",
       "    <tr>\n",
       "      <th>4</th>\n",
       "    </tr>\n",
       "    <tr>\n",
       "      <th>...</th>\n",
       "    </tr>\n",
       "    <tr>\n",
       "      <th>570</th>\n",
       "    </tr>\n",
       "    <tr>\n",
       "      <th>571</th>\n",
       "    </tr>\n",
       "    <tr>\n",
       "      <th>572</th>\n",
       "    </tr>\n",
       "    <tr>\n",
       "      <th>573</th>\n",
       "    </tr>\n",
       "    <tr>\n",
       "      <th>574</th>\n",
       "    </tr>\n",
       "  </tbody>\n",
       "</table>\n",
       "<p>575 rows × 0 columns</p>\n",
       "</div>"
      ],
      "text/plain": [
       "Empty DataFrame\n",
       "Columns: []\n",
       "Index: [0, 1, 2, 3, 4, 5, 6, 7, 8, 9, 10, 11, 12, 13, 14, 15, 16, 17, 18, 19, 20, 21, 22, 23, 24, 25, 26, 27, 28, 29, 30, 31, 32, 33, 34, 35, 36, 37, 38, 39, 40, 41, 42, 43, 44, 45, 46, 47, 48, 49, 50, 51, 52, 53, 54, 55, 56, 57, 58, 59, 60, 61, 62, 63, 64, 65, 66, 67, 68, 69, 70, 71, 72, 73, 74, 75, 76, 77, 78, 79, 80, 81, 82, 83, 84, 85, 86, 87, 88, 89, 90, 91, 92, 93, 94, 95, 96, 97, 98, 99, ...]\n",
       "\n",
       "[575 rows x 0 columns]"
      ]
     },
     "execution_count": 56,
     "metadata": {},
     "output_type": "execute_result"
    }
   ],
   "source": [
    "tc"
   ]
  },
  {
   "cell_type": "code",
   "execution_count": 46,
   "id": "3a46a56b-f7c0-492e-a088-287161b7e643",
   "metadata": {},
   "outputs": [
    {
     "data": {
      "image/png": "[encoded data removed]",
      "text/plain": [
       "<Figure size 640x480 with 1 Axes>"
      ]
     },
     "metadata": {},
     "output_type": "display_data"
    }
   ],
   "source": [
    "for tcname in tc.columns:\n",
    "    if tcname == 'Time': continue\n",
    "    plt.plot(tc['Time'], tc[tcname])\n"
   ]
  },
  {
   "cell_type": "code",
   "execution_count": null,
   "id": "5ff073c7-18bc-4d2b-83a9-1d4c1eebbed5",
   "metadata": {},
   "outputs": [],
   "source": []
  },
  {
   "cell_type": "code",
   "execution_count": null,
   "id": "da532258-86e9-4380-89d5-2e75a4e9e5b4",
   "metadata": {},
   "outputs": [],
   "source": []
  }
 ],
 "metadata": {
  "kernelspec": {
   "display_name": "Python 3 (ipykernel)",
   "language": "python",
   "name": "python3"
  },
  "language_info": {
   "codemirror_mode": {
    "name": "ipython",
    "version": 3
   },
   "file_extension": ".py",
   "mimetype": "text/x-python",
   "name": "python",
   "nbconvert_exporter": "python",
   "pygments_lexer": "ipython3",
   "version": "3.11.9"
  }
 },
 "nbformat": 4,
 "nbformat_minor": 5
}
