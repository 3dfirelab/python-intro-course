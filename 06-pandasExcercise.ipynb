{
 "cells": [
  {
   "cell_type": "markdown",
   "id": "1dce34f6-968d-4272-93cf-6fd021133332",
   "metadata": {},
   "source": [
    "![logo](Data/logo.png)"
   ]
  },
  {
   "cell_type": "markdown",
   "id": "2db8275f-6872-4d91-a3c8-e7c4172006ce",
   "metadata": {},
   "source": [
    "Use `pandas` to read the list of largest wild fire per country present in the Data directory.\n",
    "The list is extracted from [wikipedia](https://en.wikipedia.org/wiki/List_of_largest_fires_of_the_21st_century)\n"
   ]
  },
  {
   "cell_type": "markdown",
   "id": "2bd33b23-5018-44b9-aa9d-7a1b222b8aa3",
   "metadata": {},
   "source": [
    "then, plot\n",
    "* the total area burn per year and select the year with the highest area burnt\n",
    "* the correlation between area burnt and number of fatalities\n",
    "* a map of total area burnt per country. For this you can use the library `geopandas`, see [here](https://geopandas.org/en/v0.2.1/mapping.html.)\n"
   ]
  },
  {
   "cell_type": "markdown",
   "id": "8b68f942-f70f-4bb6-9693-c5b3bf7f6a06",
   "metadata": {},
   "source": [
    "This list only gathers the 14 largest wildfire from 2019 on, so that we cannot really draw any conclusion from this simple analysis."
   ]
  },
  {
   "cell_type": "markdown",
   "id": "2777c8ba-b702-4052-be75-4d6d46762270",
   "metadata": {},
   "source": [
    "A solution is presented in the form a of `.py` file in the Data directory."
   ]
  },
  {
   "cell_type": "code",
   "execution_count": null,
   "id": "27835604-e7c2-4b63-a350-5a8377f96c17",
   "metadata": {},
   "outputs": [],
   "source": []
  }
 ],
 "metadata": {
  "kernelspec": {
   "display_name": "Python 3 (ipykernel)",
   "language": "python",
   "name": "python3"
  },
  "language_info": {
   "codemirror_mode": {
    "name": "ipython",
    "version": 3
   },
   "file_extension": ".py",
   "mimetype": "text/x-python",
   "name": "python",
   "nbconvert_exporter": "python",
   "pygments_lexer": "ipython3",
   "version": "3.9.16"
  }
 },
 "nbformat": 4,
 "nbformat_minor": 5
}
